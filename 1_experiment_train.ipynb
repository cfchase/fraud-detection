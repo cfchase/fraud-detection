{
 "cells": [
  {
   "cell_type": "markdown",
   "metadata": {
    "tags": []
   },
   "source": [
    "# Experiment"
   ]
  },
  {
   "cell_type": "markdown",
   "metadata": {
    "tags": []
   },
   "source": [
    "## Install Python dependencies"
   ]
  },
  {
   "cell_type": "markdown",
   "metadata": {},
   "source": [
    "Import the dependencies for the model training code:"
   ]
  },
  {
   "cell_type": "code",
   "execution_count": 1,
   "metadata": {
    "tags": []
   },
   "outputs": [],
   "source": [
    "import numpy as np\n",
    "import pandas as pd\n",
    "import datetime\n",
    "from sklearn.model_selection import train_test_split\n",
    "from sklearn.preprocessing import StandardScaler\n",
    "import pickle\n",
    "from pathlib import Path"
   ]
  },
  {
   "cell_type": "markdown",
   "metadata": {},
   "source": [
    "## Load the CSV data\n",
    "\n",
    "The CSV data that you use to train the model contains the following fields:\n",
    "\n",
    "* **distancefromhome** - The distance from home where the transaction happened.\n",
    "* **distancefromlast_transaction** - The distance from the last transaction that happened.\n",
    "* **ratiotomedianpurchaseprice** - The ratio of purchased price compared to median purchase price.\n",
    "* **repeat_retailer** - If it's from a retailer that already has been purchased from before.\n",
    "* **used_chip** - If the credit card chip was used.\n",
    "* **usedpinnumber** - If the PIN number was used.\n",
    "* **online_order** - If it was an online order.\n",
    "* **fraud** - If the transaction is fraudulent."
   ]
  },
  {
   "cell_type": "code",
   "execution_count": 2,
   "metadata": {
    "tags": []
   },
   "outputs": [
    {
     "data": {
      "text/html": [
       "<div>\n",
       "<style scoped>\n",
       "    .dataframe tbody tr th:only-of-type {\n",
       "        vertical-align: middle;\n",
       "    }\n",
       "\n",
       "    .dataframe tbody tr th {\n",
       "        vertical-align: top;\n",
       "    }\n",
       "\n",
       "    .dataframe thead th {\n",
       "        text-align: right;\n",
       "    }\n",
       "</style>\n",
       "<table border=\"1\" class=\"dataframe\">\n",
       "  <thead>\n",
       "    <tr style=\"text-align: right;\">\n",
       "      <th></th>\n",
       "      <th>distance_from_home</th>\n",
       "      <th>distance_from_last_transaction</th>\n",
       "      <th>ratio_to_median_purchase_price</th>\n",
       "      <th>repeat_retailer</th>\n",
       "      <th>used_chip</th>\n",
       "      <th>used_pin_number</th>\n",
       "      <th>online_order</th>\n",
       "      <th>fraud</th>\n",
       "    </tr>\n",
       "  </thead>\n",
       "  <tbody>\n",
       "    <tr>\n",
       "      <th>0</th>\n",
       "      <td>57.877857</td>\n",
       "      <td>0.311140</td>\n",
       "      <td>1.945940</td>\n",
       "      <td>1.0</td>\n",
       "      <td>1.0</td>\n",
       "      <td>0.0</td>\n",
       "      <td>0.0</td>\n",
       "      <td>0.0</td>\n",
       "    </tr>\n",
       "    <tr>\n",
       "      <th>1</th>\n",
       "      <td>10.829943</td>\n",
       "      <td>0.175592</td>\n",
       "      <td>1.294219</td>\n",
       "      <td>1.0</td>\n",
       "      <td>0.0</td>\n",
       "      <td>0.0</td>\n",
       "      <td>0.0</td>\n",
       "      <td>0.0</td>\n",
       "    </tr>\n",
       "    <tr>\n",
       "      <th>2</th>\n",
       "      <td>5.091079</td>\n",
       "      <td>0.805153</td>\n",
       "      <td>0.427715</td>\n",
       "      <td>1.0</td>\n",
       "      <td>0.0</td>\n",
       "      <td>0.0</td>\n",
       "      <td>1.0</td>\n",
       "      <td>0.0</td>\n",
       "    </tr>\n",
       "    <tr>\n",
       "      <th>3</th>\n",
       "      <td>2.247564</td>\n",
       "      <td>5.600044</td>\n",
       "      <td>0.362663</td>\n",
       "      <td>1.0</td>\n",
       "      <td>1.0</td>\n",
       "      <td>0.0</td>\n",
       "      <td>1.0</td>\n",
       "      <td>0.0</td>\n",
       "    </tr>\n",
       "    <tr>\n",
       "      <th>4</th>\n",
       "      <td>44.190936</td>\n",
       "      <td>0.566486</td>\n",
       "      <td>2.222767</td>\n",
       "      <td>1.0</td>\n",
       "      <td>1.0</td>\n",
       "      <td>0.0</td>\n",
       "      <td>1.0</td>\n",
       "      <td>0.0</td>\n",
       "    </tr>\n",
       "  </tbody>\n",
       "</table>\n",
       "</div>"
      ],
      "text/plain": [
       "   distance_from_home  distance_from_last_transaction  \\\n",
       "0           57.877857                        0.311140   \n",
       "1           10.829943                        0.175592   \n",
       "2            5.091079                        0.805153   \n",
       "3            2.247564                        5.600044   \n",
       "4           44.190936                        0.566486   \n",
       "\n",
       "   ratio_to_median_purchase_price  repeat_retailer  used_chip  \\\n",
       "0                        1.945940              1.0        1.0   \n",
       "1                        1.294219              1.0        0.0   \n",
       "2                        0.427715              1.0        0.0   \n",
       "3                        0.362663              1.0        1.0   \n",
       "4                        2.222767              1.0        1.0   \n",
       "\n",
       "   used_pin_number  online_order  fraud  \n",
       "0              0.0           0.0    0.0  \n",
       "1              0.0           0.0    0.0  \n",
       "2              0.0           1.0    0.0  \n",
       "3              0.0           1.0    0.0  \n",
       "4              0.0           1.0    0.0  "
      ]
     },
     "execution_count": 2,
     "metadata": {},
     "output_type": "execute_result"
    }
   ],
   "source": [
    "Data = pd.read_csv('data/card_transdata.csv')\n",
    "Data.head()"
   ]
  },
  {
   "cell_type": "code",
   "execution_count": 3,
   "metadata": {
    "tags": []
   },
   "outputs": [],
   "source": [
    "import torch\n",
    "\n",
    "# Set the input (X) and output (Y) data. \n",
    "# The only output data is whether it's fraudulent. All other fields are inputs to the model.\n",
    "\n",
    "X = torch.tensor(Data.drop(columns = ['repeat_retailer','distance_from_home', 'fraud']).values, dtype=torch.float)\n",
    "y = torch.tensor((Data['fraud']).values, dtype=torch.float)\n",
    "\n",
    "# Split the data into training and testing sets so you have something to test the trained model with.\n",
    "X_train, X_test, y_train, y_test = train_test_split(X, y, test_size = 0.2, shuffle = False)\n",
    "X_train, X_val, y_train, y_val = train_test_split(X_train,y_train, test_size = 0.2, stratify = y_train)\n",
    "\n",
    "# Scale the data to remove mean and have unit variance. The data will be between -1 and 1, which makes it a lot easier for the model to learn than random (and potentially large) values.\n",
    "# It is important to only fit the scaler to the training data, otherwise you are leaking information about the global distribution of variables (which is influenced by the test set) into the training set.\n",
    "scaler = StandardScaler()\n",
    "\n",
    "X_train = torch.tensor(scaler.fit_transform(X_train), dtype=torch.float)\n",
    "X_test = torch.tensor(scaler.transform(X_test), dtype=torch.float)\n",
    "X_val = torch.tensor(scaler.transform(X_val), dtype=torch.float)\n",
    "\n",
    "Path(\"artifact\").mkdir(parents=True, exist_ok=True)\n",
    "with open(\"artifact/test_data.pkl\", \"wb\") as handle:\n",
    "    pickle.dump((X_test, y_test), handle)\n",
    "with open(\"artifact/scaler.pkl\", \"wb\") as handle:\n",
    "    pickle.dump(scaler, handle)\n",
    "\n",
    "# Since the dataset is unbalanced (it has many more non-fraud transactions than fraudulent ones), set a pos_weight to weight the few fraudulent transactions higher than the many non-fraud transactions.\n",
    "positives = torch.sum(y_train)\n",
    "negatives = (len(y_train) - torch.sum(y_train))\n",
    "pos_weight = torch.unsqueeze((negatives / positives), 0)\n"
   ]
  },
  {
   "cell_type": "markdown",
   "metadata": {},
   "source": [
    "## Build the model\n",
    "\n",
    "The model is a simple, fully-connected, deep neural network, containing three hidden layers and one output layer."
   ]
  },
  {
   "cell_type": "code",
   "execution_count": 4,
   "metadata": {},
   "outputs": [
    {
     "data": {
      "text/plain": [
       "'cuda'"
      ]
     },
     "execution_count": 4,
     "metadata": {},
     "output_type": "execute_result"
    }
   ],
   "source": [
    "import torch\n",
    "\n",
    "device = (\n",
    "    \"cuda\" if torch.cuda.is_available()\n",
    "    else \"mps\" if torch.backends.mps.is_available()\n",
    "    else \"cpu\"\n",
    ")\n",
    "\n",
    "device"
   ]
  },
  {
   "cell_type": "code",
   "execution_count": 5,
   "metadata": {},
   "outputs": [],
   "source": [
    "X_train = X_train.to(device)\n",
    "X_test = X_test.to(device)\n",
    "X_val = X_val.to(device)\n",
    "\n",
    "y_train = y_train.to(device)\n",
    "y_test = y_test.to(device)\n",
    "y_val = y_val.to(device)"
   ]
  },
  {
   "cell_type": "code",
   "execution_count": 6,
   "metadata": {
    "tags": []
   },
   "outputs": [
    {
     "data": {
      "text/plain": [
       "Sequential(\n",
       "  (0): Linear(in_features=5, out_features=8, bias=True)\n",
       "  (1): ReLU()\n",
       "  (2): Linear(in_features=8, out_features=4, bias=True)\n",
       "  (3): ReLU()\n",
       "  (4): Linear(in_features=4, out_features=1, bias=True)\n",
       "  (5): Sigmoid()\n",
       ")"
      ]
     },
     "execution_count": 6,
     "metadata": {},
     "output_type": "execute_result"
    }
   ],
   "source": [
    "import torch\n",
    "from torch import nn, optim\n",
    "\n",
    "model = nn.Sequential(\n",
    "    nn.Linear(in_features=X.shape[1], out_features=8),\n",
    "    nn.ReLU(),\n",
    "    nn.Linear(in_features=8, out_features=4),\n",
    "    nn.ReLU(),\n",
    "    nn.Linear(in_features=4, out_features=1),\n",
    "    nn.Sigmoid(),\n",
    ").to(device)\n",
    "\n",
    "model"
   ]
  },
  {
   "cell_type": "code",
   "execution_count": 7,
   "metadata": {
    "tags": []
   },
   "outputs": [],
   "source": [
    "loss_fn = nn.BCEWithLogitsLoss(pos_weight=pos_weight).to(device)\n",
    "\n",
    "# optimizer = torch.optim.SGD(params=model.parameters(), lr=0.01)\n",
    "optimizer = optim.Adam(params=model.parameters(), lr=0.01)\n",
    "\n",
    "\n",
    "def accuracy_fn(y_pred, y_actual):\n",
    "    correct = torch.eq(torch.round(y_pred), y_actual).sum().item()\n",
    "    acc = (correct / len(y_pred)) * 100\n",
    "    return acc"
   ]
  },
  {
   "cell_type": "markdown",
   "metadata": {},
   "source": [
    "## Train the model\n",
    "\n",
    "Training a model is often the most time-consuming part of the machine learning process.  Large models can take multiple GPUs for days.  Expect the training on CPU for this very simple model to take a minute or more."
   ]
  },
  {
   "cell_type": "code",
   "execution_count": 8,
   "metadata": {
    "tags": []
   },
   "outputs": [
    {
     "name": "stdout",
     "output_type": "stream",
     "text": [
      "Epoch: 0 | Loss: 1.32889, Accuracy: 8.80% | Validation loss: 1.32702, Val acc: 10.71%\n",
      "Epoch: 100 | Loss: 1.08909, Accuracy: 95.74% | Validation loss: 1.08830, Val acc: 95.68%\n",
      "Epoch: 200 | Loss: 1.04792, Accuracy: 95.38% | Validation loss: 1.04743, Val acc: 95.38%\n",
      "Epoch: 300 | Loss: 1.03079, Accuracy: 95.39% | Validation loss: 1.03041, Val acc: 95.40%\n",
      "Epoch: 400 | Loss: 1.02234, Accuracy: 95.47% | Validation loss: 1.02201, Val acc: 95.48%\n",
      "Epoch: 500 | Loss: 1.01737, Accuracy: 95.61% | Validation loss: 1.01706, Val acc: 95.62%\n",
      "Epoch: 600 | Loss: 1.01417, Accuracy: 95.73% | Validation loss: 1.01382, Val acc: 95.75%\n",
      "Epoch: 700 | Loss: 1.01187, Accuracy: 95.81% | Validation loss: 1.01156, Val acc: 95.84%\n",
      "Epoch: 800 | Loss: 1.01023, Accuracy: 95.92% | Validation loss: 1.00999, Val acc: 95.95%\n",
      "Epoch: 900 | Loss: 1.00896, Accuracy: 95.99% | Validation loss: 1.00872, Val acc: 96.02%\n",
      "Final Epoch: 999 | Loss: 1.00801, Accuracy: 96.05% | Test loss: 1.00776, Test acc: 96.08%\n"
     ]
    }
   ],
   "source": [
    "torch.manual_seed(0) #manually seeding for reproducibility\n",
    "\n",
    "# Set the number of epochs\n",
    "epochs = 1000\n",
    "\n",
    "# Build training and evaluation loop\n",
    "for epoch in range(epochs):\n",
    "    # Training\n",
    "    model.train()\n",
    "\n",
    "    y_pred = model(X_train).squeeze()\n",
    "    loss = loss_fn(y_pred, y_train)\n",
    "    acc = accuracy_fn(y_pred, y_train)\n",
    "\n",
    "    loss.backward()\n",
    "    optimizer.step()\n",
    "    optimizer.zero_grad()\n",
    "\n",
    "    # Validate\n",
    "    model.eval()\n",
    "    with torch.no_grad():\n",
    "        y_pred = model(X_val).squeeze()\n",
    "        val_loss = loss_fn(y_pred, y_val)\n",
    "        val_acc = accuracy_fn(y_pred, y_val)\n",
    "\n",
    "    if epoch % (epochs // 10) == 0:\n",
    "        print(f\"Epoch: {epoch} | Loss: {loss:.5f}, Accuracy: {acc:.2f}% | \"\n",
    "              f\"Validation loss: {val_loss:.5f}, Val acc: {val_acc:.2f}%\")\n",
    "\n",
    "\n",
    "print(f\"Final Epoch: {epoch} | Loss: {loss:.5f}, Accuracy: {acc:.2f}% | \"\n",
    "      f\"Test loss: {val_loss:.5f}, Test acc: {val_acc:.2f}%\")"
   ]
  },
  {
   "cell_type": "markdown",
   "metadata": {},
   "source": [
    "## Test the Model"
   ]
  },
  {
   "cell_type": "code",
   "execution_count": 9,
   "metadata": {
    "tags": []
   },
   "outputs": [],
   "source": [
    "def run_inference(data):\n",
    "    scaled_tx = torch.tensor(scaler.transform(data).astype(np.float32),\n",
    "                             dtype=torch.float).to(device)\n",
    "    scaled_tx\n",
    "\n",
    "    model.eval()\n",
    "    with torch.inference_mode():\n",
    "        prediction = torch.round(model(scaled_tx))\n",
    "\n",
    "    if prediction.item() == 1:\n",
    "        return \"fraud\"\n",
    "    else:\n",
    "        return \"NOT fraud\""
   ]
  },
  {
   "cell_type": "code",
   "execution_count": 10,
   "metadata": {
    "tags": []
   },
   "outputs": [
    {
     "name": "stdout",
     "output_type": "stream",
     "text": [
      "The model thinks the valid transaction is NOT fraud\n"
     ]
    }
   ],
   "source": [
    "# valid transaction\n",
    "valid_tx = [[0.0, 1.0, 1.0, 1.0, 0.0]]\n",
    "prediction = run_inference(valid_tx)\n",
    "print(f\"The model thinks the valid transaction is {prediction}\")"
   ]
  },
  {
   "cell_type": "code",
   "execution_count": 11,
   "metadata": {
    "tags": []
   },
   "outputs": [
    {
     "name": "stdout",
     "output_type": "stream",
     "text": [
      "The model thinks the valid transaction is fraud\n"
     ]
    }
   ],
   "source": [
    "# fraudulent use case\n",
    "fraud_tx = [[100, 1.2, 0.0, 0.0, 1.0]]\n",
    "prediction = run_inference(fraud_tx)\n",
    "print(f\"The model thinks the valid transaction is {prediction}\")"
   ]
  },
  {
   "cell_type": "code",
   "execution_count": 12,
   "metadata": {
    "tags": []
   },
   "outputs": [],
   "source": [
    "### Testing\n",
    "model.eval()\n",
    "with torch.inference_mode():\n",
    "    y_pred = model(X_test).squeeze()\n",
    "    acc = accuracy_fn(y_pred, y_test)\n",
    "    \n",
    "pytorch_y_pred = y_pred"
   ]
  },
  {
   "cell_type": "code",
   "execution_count": 13,
   "metadata": {},
   "outputs": [
    {
     "name": "stdout",
     "output_type": "stream",
     "text": [
      "Accuracy: 95.9785\n"
     ]
    },
    {
     "data": {
      "text/plain": [
       "<sklearn.metrics._plot.confusion_matrix.ConfusionMatrixDisplay at 0x7f8ea0eea280>"
      ]
     },
     "execution_count": 13,
     "metadata": {},
     "output_type": "execute_result"
    },
    {
     "data": {
      "image/png": "[encoded data removed]",
      "text/plain": [
       "<Figure size 640x480 with 2 Axes>"
      ]
     },
     "metadata": {},
     "output_type": "display_data"
    }
   ],
   "source": [
    "from sklearn.metrics import confusion_matrix, ConfusionMatrixDisplay\n",
    "from matplotlib import pyplot as plt\n",
    "\n",
    "print(f\"Accuracy: {acc}\")\n",
    "\n",
    "c_matrix = confusion_matrix(torch.Tensor.cpu(y_test), \n",
    "                            torch.round(torch.Tensor.cpu(y_pred)))\n",
    "ConfusionMatrixDisplay(c_matrix).plot()\n"
   ]
  },
  {
   "cell_type": "markdown",
   "metadata": {},
   "source": [
    "## Save the model file"
   ]
  },
  {
   "cell_type": "code",
   "execution_count": 14,
   "metadata": {
    "tags": []
   },
   "outputs": [
    {
     "data": {
      "text/plain": [
       "OrderedDict([('0.weight',\n",
       "              tensor([[ 0.3608,  0.9600, -0.5168, -2.7704,  0.9762],\n",
       "                      [-1.8150, -2.4835, -0.7203, -2.2204,  1.7873],\n",
       "                      [ 0.3800, -1.9083,  1.6151,  0.7891, -1.6718],\n",
       "                      [-0.2876, -0.8508,  0.2616, -1.3781, -1.2388],\n",
       "                      [ 0.0355, -0.0846,  0.7087,  0.8259, -1.3969],\n",
       "                      [ 1.8753,  0.3139, -2.0393, -0.6712, -1.5100],\n",
       "                      [-2.6845, -1.5446, -1.2104, -0.8110,  2.2729],\n",
       "                      [-5.0674,  1.0734, -1.2543, -3.0739,  1.6510]], device='cuda:0')),\n",
       "             ('0.bias',\n",
       "              tensor([-0.4307,  1.2131,  0.8754,  1.2879,  0.5657, -0.4816,  1.2752, -0.7580],\n",
       "                     device='cuda:0')),\n",
       "             ('2.weight',\n",
       "              tensor([[-0.8872,  1.9220,  0.9573,  1.4272,  1.3967, -1.5433,  2.1490, -2.3305],\n",
       "                      [-0.8954,  0.9536,  1.4411,  0.8145,  1.4119, -0.3080,  1.5242, -1.3648],\n",
       "                      [-0.2861, -0.0713, -0.1948, -0.0101,  0.0809, -0.1942, -0.2877,  0.2110],\n",
       "                      [-1.3065,  3.0760,  1.2166,  1.9444,  1.5012, -2.0237,  1.6600, -2.3159]],\n",
       "                     device='cuda:0')),\n",
       "             ('2.bias',\n",
       "              tensor([ 0.7952,  0.7246, -0.3672,  1.0076], device='cuda:0')),\n",
       "             ('4.weight',\n",
       "              tensor([[-1.3638, -1.2852, -0.1078, -1.3911]], device='cuda:0')),\n",
       "             ('4.bias', tensor([3.9765], device='cuda:0'))])"
      ]
     },
     "execution_count": 14,
     "metadata": {},
     "output_type": "execute_result"
    }
   ],
   "source": [
    "model.state_dict()\n"
   ]
  },
  {
   "cell_type": "code",
   "execution_count": 15,
   "metadata": {
    "tags": []
   },
   "outputs": [
    {
     "name": "stdout",
     "output_type": "stream",
     "text": [
      "Requirement already satisfied: onnx in /opt/app-root/lib/python3.9/site-packages (1.16.0)\n",
      "Collecting onnxscript\n",
      "  Downloading onnxscript-0.1.0.dev20240802-py3-none-any.whl (655 kB)\n",
      "\u001b[2K     \u001b[90m━━━━━━━━━━━━━━━━━━━━━━━━━━━━━━━━━━━━━━\u001b[0m \u001b[32m655.6/655.6 kB\u001b[0m \u001b[31m10.5 MB/s\u001b[0m eta \u001b[36m0:00:00\u001b[0ma \u001b[36m0:00:01\u001b[0m\n",
      "\u001b[?25hCollecting onnxruntime\n",
      "  Downloading onnxruntime-1.18.1-cp39-cp39-manylinux_2_27_x86_64.manylinux_2_28_x86_64.whl (6.8 MB)\n",
      "\u001b[2K     \u001b[90m━━━━━━━━━━━━━━━━━━━━━━━━━━━━━━━━━━━━━━━━\u001b[0m \u001b[32m6.8/6.8 MB\u001b[0m \u001b[31m31.3 MB/s\u001b[0m eta \u001b[36m0:00:00\u001b[0ma \u001b[36m0:00:01\u001b[0m\n",
      "\u001b[?25hRequirement already satisfied: protobuf>=3.20.2 in /opt/app-root/lib/python3.9/site-packages (from onnx) (4.25.3)\n",
      "Requirement already satisfied: numpy>=1.20 in /opt/app-root/lib/python3.9/site-packages (from onnx) (1.26.4)\n",
      "Requirement already satisfied: typing-extensions in /opt/app-root/lib/python3.9/site-packages (from onnxscript) (4.11.0)\n",
      "Collecting ml-dtypes\n",
      "  Downloading ml_dtypes-0.4.0-cp39-cp39-manylinux_2_17_x86_64.manylinux2014_x86_64.whl (2.2 MB)\n",
      "\u001b[2K     \u001b[90m━━━━━━━━━━━━━━━━━━━━━━━━━━━━━━━━━━━━━━━━\u001b[0m \u001b[32m2.2/2.2 MB\u001b[0m \u001b[31m69.9 MB/s\u001b[0m eta \u001b[36m0:00:00\u001b[0m\n",
      "\u001b[?25hRequirement already satisfied: packaging in /opt/app-root/lib/python3.9/site-packages (from onnxruntime) (24.0)\n",
      "Collecting coloredlogs\n",
      "  Downloading coloredlogs-15.0.1-py2.py3-none-any.whl (46 kB)\n",
      "\u001b[2K     \u001b[90m━━━━━━━━━━━━━━━━━━━━━━━━━━━━━━━━━━━━━━━\u001b[0m \u001b[32m46.0/46.0 kB\u001b[0m \u001b[31m210.3 MB/s\u001b[0m eta \u001b[36m0:00:00\u001b[0m\n",
      "\u001b[?25hRequirement already satisfied: sympy in /opt/app-root/lib/python3.9/site-packages (from onnxruntime) (1.12)\n",
      "Collecting flatbuffers\n",
      "  Downloading flatbuffers-24.3.25-py2.py3-none-any.whl (26 kB)\n",
      "Collecting humanfriendly>=9.1\n",
      "  Downloading humanfriendly-10.0-py2.py3-none-any.whl (86 kB)\n",
      "\u001b[2K     \u001b[90m━━━━━━━━━━━━━━━━━━━━━━━━━━━━━━━━━━━━━━━\u001b[0m \u001b[32m86.8/86.8 kB\u001b[0m \u001b[31m208.6 MB/s\u001b[0m eta \u001b[36m0:00:00\u001b[0m\n",
      "\u001b[?25hRequirement already satisfied: mpmath>=0.19 in /opt/app-root/lib/python3.9/site-packages (from sympy->onnxruntime) (1.3.0)\n",
      "Installing collected packages: flatbuffers, ml-dtypes, humanfriendly, onnxscript, coloredlogs, onnxruntime\n",
      "Successfully installed coloredlogs-15.0.1 flatbuffers-24.3.25 humanfriendly-10.0 ml-dtypes-0.4.0 onnxruntime-1.18.1 onnxscript-0.1.0.dev20240802\n",
      "\n",
      "\u001b[1m[\u001b[0m\u001b[34;49mnotice\u001b[0m\u001b[1;39;49m]\u001b[0m\u001b[39;49m A new release of pip available: \u001b[0m\u001b[31;49m22.2.2\u001b[0m\u001b[39;49m -> \u001b[0m\u001b[32;49m24.2\u001b[0m\n",
      "\u001b[1m[\u001b[0m\u001b[34;49mnotice\u001b[0m\u001b[1;39;49m]\u001b[0m\u001b[39;49m To update, run: \u001b[0m\u001b[32;49mpip install --upgrade pip\u001b[0m\n"
     ]
    }
   ],
   "source": [
    "!pip install onnx onnxscript onnxruntime"
   ]
  },
  {
   "cell_type": "code",
   "execution_count": 16,
   "metadata": {
    "tags": []
   },
   "outputs": [
    {
     "name": "stdout",
     "output_type": "stream",
     "text": [
      "Requirement already satisfied: onnx in /opt/app-root/lib/python3.9/site-packages (1.16.0)\n",
      "Collecting onnx\n",
      "  Downloading onnx-1.16.2-cp39-cp39-manylinux_2_17_x86_64.manylinux2014_x86_64.whl (15.9 MB)\n",
      "\u001b[2K     \u001b[90m━━━━━━━━━━━━━━━━━━━━━━━━━━━━━━━━━━━━━━━\u001b[0m \u001b[32m15.9/15.9 MB\u001b[0m \u001b[31m177.6 MB/s\u001b[0m eta \u001b[36m0:00:00\u001b[0ma \u001b[36m0:00:01\u001b[0m\n",
      "\u001b[?25hRequirement already satisfied: onnxscript in /opt/app-root/lib/python3.9/site-packages (0.1.0.dev20240802)\n",
      "Requirement already satisfied: protobuf>=3.20.2 in /opt/app-root/lib/python3.9/site-packages (from onnx) (4.25.3)\n",
      "Requirement already satisfied: numpy>=1.20 in /opt/app-root/lib/python3.9/site-packages (from onnx) (1.26.4)\n",
      "Requirement already satisfied: ml-dtypes in /opt/app-root/lib/python3.9/site-packages (from onnxscript) (0.4.0)\n",
      "Requirement already satisfied: typing-extensions in /opt/app-root/lib/python3.9/site-packages (from onnxscript) (4.11.0)\n",
      "Installing collected packages: onnx\n",
      "  Attempting uninstall: onnx\n",
      "    Found existing installation: onnx 1.16.0\n",
      "    Uninstalling onnx-1.16.0:\n",
      "      Successfully uninstalled onnx-1.16.0\n",
      "Successfully installed onnx-1.16.2\n",
      "\n",
      "\u001b[1m[\u001b[0m\u001b[34;49mnotice\u001b[0m\u001b[1;39;49m]\u001b[0m\u001b[39;49m A new release of pip available: \u001b[0m\u001b[31;49m22.2.2\u001b[0m\u001b[39;49m -> \u001b[0m\u001b[32;49m24.2\u001b[0m\n",
      "\u001b[1m[\u001b[0m\u001b[34;49mnotice\u001b[0m\u001b[1;39;49m]\u001b[0m\u001b[39;49m To update, run: \u001b[0m\u001b[32;49mpip install --upgrade pip\u001b[0m\n"
     ]
    }
   ],
   "source": [
    "!pip install -U onnx onnxscript "
   ]
  },
  {
   "cell_type": "code",
   "execution_count": 17,
   "metadata": {
    "tags": []
   },
   "outputs": [
    {
     "data": {
      "text/plain": [
       "Sequential(\n",
       "  (0): Linear(in_features=5, out_features=8, bias=True)\n",
       "  (1): ReLU()\n",
       "  (2): Linear(in_features=8, out_features=4, bias=True)\n",
       "  (3): ReLU()\n",
       "  (4): Linear(in_features=4, out_features=1, bias=True)\n",
       "  (5): Sigmoid()\n",
       ")"
      ]
     },
     "execution_count": 17,
     "metadata": {},
     "output_type": "execute_result"
    }
   ],
   "source": [
    "model"
   ]
  },
  {
   "cell_type": "code",
   "execution_count": null,
   "metadata": {},
   "outputs": [],
   "source": []
  },
  {
   "cell_type": "code",
   "execution_count": 18,
   "metadata": {
    "tags": []
   },
   "outputs": [
    {
     "name": "stdout",
     "output_type": "stream",
     "text": [
      "Exported graph: graph(%inputs : Float(5, strides=[1], requires_grad=0, device=cuda:0),\n",
      "      %0.bias : Float(8, strides=[1], requires_grad=1, device=cuda:0),\n",
      "      %2.bias : Float(4, strides=[1], requires_grad=1, device=cuda:0),\n",
      "      %4.bias : Float(1, strides=[1], requires_grad=1, device=cuda:0),\n",
      "      %onnx::MatMul_19 : Float(5, 8, strides=[1, 5], requires_grad=0, device=cuda:0),\n",
      "      %onnx::MatMul_20 : Float(8, 4, strides=[1, 8], requires_grad=0, device=cuda:0),\n",
      "      %onnx::MatMul_21 : Float(4, 1, strides=[1, 4], requires_grad=0, device=cuda:0)):\n",
      "  %/0/MatMul_output_0 : Float(8, strides=[1], device=cpu) = onnx::MatMul[onnx_name=\"/0/MatMul\"](%inputs, %onnx::MatMul_19), scope: torch.nn.modules.container.Sequential::/torch.nn.modules.linear.Linear::0 # /opt/app-root/lib64/python3.9/site-packages/torch/nn/modules/linear.py:116:0\n",
      "  %/0/Add_output_0 : Float(8, strides=[1], requires_grad=1, device=cuda:0) = onnx::Add[onnx_name=\"/0/Add\"](%0.bias, %/0/MatMul_output_0), scope: torch.nn.modules.container.Sequential::/torch.nn.modules.linear.Linear::0 # /opt/app-root/lib64/python3.9/site-packages/torch/nn/modules/linear.py:116:0\n",
      "  %/1/Relu_output_0 : Float(8, strides=[1], requires_grad=1, device=cuda:0) = onnx::Relu[onnx_name=\"/1/Relu\"](%/0/Add_output_0), scope: torch.nn.modules.container.Sequential::/torch.nn.modules.activation.ReLU::1 # /opt/app-root/lib64/python3.9/site-packages/torch/nn/functional.py:1473:0\n",
      "  %/2/MatMul_output_0 : Float(4, strides=[1], device=cpu) = onnx::MatMul[onnx_name=\"/2/MatMul\"](%/1/Relu_output_0, %onnx::MatMul_20), scope: torch.nn.modules.container.Sequential::/torch.nn.modules.linear.Linear::2 # /opt/app-root/lib64/python3.9/site-packages/torch/nn/modules/linear.py:116:0\n",
      "  %/2/Add_output_0 : Float(4, strides=[1], requires_grad=1, device=cuda:0) = onnx::Add[onnx_name=\"/2/Add\"](%2.bias, %/2/MatMul_output_0), scope: torch.nn.modules.container.Sequential::/torch.nn.modules.linear.Linear::2 # /opt/app-root/lib64/python3.9/site-packages/torch/nn/modules/linear.py:116:0\n",
      "  %/3/Relu_output_0 : Float(4, strides=[1], requires_grad=1, device=cuda:0) = onnx::Relu[onnx_name=\"/3/Relu\"](%/2/Add_output_0), scope: torch.nn.modules.container.Sequential::/torch.nn.modules.activation.ReLU::3 # /opt/app-root/lib64/python3.9/site-packages/torch/nn/functional.py:1473:0\n",
      "  %/4/MatMul_output_0 : Float(1, strides=[1], device=cpu) = onnx::MatMul[onnx_name=\"/4/MatMul\"](%/3/Relu_output_0, %onnx::MatMul_21), scope: torch.nn.modules.container.Sequential::/torch.nn.modules.linear.Linear::4 # /opt/app-root/lib64/python3.9/site-packages/torch/nn/modules/linear.py:116:0\n",
      "  %/4/Add_output_0 : Float(1, strides=[1], requires_grad=1, device=cuda:0) = onnx::Add[onnx_name=\"/4/Add\"](%4.bias, %/4/MatMul_output_0), scope: torch.nn.modules.container.Sequential::/torch.nn.modules.linear.Linear::4 # /opt/app-root/lib64/python3.9/site-packages/torch/nn/modules/linear.py:116:0\n",
      "  %outputs : Float(1, strides=[1], requires_grad=1, device=cuda:0) = onnx::Sigmoid[onnx_name=\"/5/Sigmoid\"](%/4/Add_output_0), scope: torch.nn.modules.container.Sequential::/torch.nn.modules.activation.Sigmoid::5 # /opt/app-root/lib64/python3.9/site-packages/torch/nn/modules/activation.py:292:0\n",
      "  return (%outputs)\n",
      "\n"
     ]
    }
   ],
   "source": [
    "import os\n",
    "\n",
    "os.makedirs(\"models/fraud/1\", exist_ok=True)\n",
    "dummy_input = torch.randn(5, device=device)\n",
    "torch.onnx.export(model,\n",
    "                  dummy_input,\n",
    "                  \"models/fraud/1/model.onnx\",\n",
    "                  input_names=[\"inputs\"],\n",
    "                  output_names=[\"outputs\"],\n",
    "                  # dynamic_axes={\n",
    "                  #     \"inputs\": {0: \"batch_size\"},\n",
    "                  # },\n",
    "                  verbose=True)"
   ]
  },
  {
   "cell_type": "code",
   "execution_count": 19,
   "metadata": {
    "tags": []
   },
   "outputs": [],
   "source": [
    "# import os\n",
    "\n",
    "# os.makedirs(\"models/fraud/1\", exist_ok=True)\n",
    "# dummy_input = torch.randn(1, 5, device=device)\n",
    "# onnx_model = torch.onnx.dynamo_export(model, dummy_input)\n",
    "# onnx_model.save(\"models/fraud/1/model.onnx\")"
   ]
  },
  {
   "cell_type": "markdown",
   "metadata": {},
   "source": [
    "## Confirm the model file was created successfully\n",
    "\n",
    "The output should include the model name, size, and date. "
   ]
  },
  {
   "cell_type": "code",
   "execution_count": 20,
   "metadata": {
    "tags": []
   },
   "outputs": [
    {
     "name": "stdout",
     "output_type": "stream",
     "text": [
      "-rw-rw-r--. 1 1001190000 1001190000 32K Aug  2 19:29 ./models/fraud/1/model.onnx\n"
     ]
    }
   ],
   "source": [
    "!ls -alRh ./models/fraud/1/model.onnx"
   ]
  },
  {
   "cell_type": "code",
   "execution_count": 21,
   "metadata": {
    "tags": []
   },
   "outputs": [
    {
     "name": "stdout",
     "output_type": "stream",
     "text": [
      "Exported model file exists at ./models/fraud/1/model.onnx\n"
     ]
    }
   ],
   "source": [
    "import os\n",
    "\n",
    "file_path = './models/fraud/1/model.onnx'  # Replace with the actual file path\n",
    "if os.path.isfile(file_path):\n",
    "    print(f\"Exported model file exists at {file_path}\")\n",
    "else:\n",
    "    raise FileNotFoundError(f\"Expected model file at {file_path} missing\")"
   ]
  },
  {
   "cell_type": "markdown",
   "metadata": {},
   "source": [
    "## Test the model"
   ]
  },
  {
   "cell_type": "code",
   "execution_count": 22,
   "metadata": {},
   "outputs": [],
   "source": [
    "from sklearn.metrics import confusion_matrix\n",
    "import numpy as np\n",
    "import pickle\n",
    "from matplotlib import pyplot as plt\n",
    "\n",
    "import onnx\n",
    "import onnxruntime as rt"
   ]
  },
  {
   "cell_type": "markdown",
   "metadata": {},
   "source": [
    "Create an ONNX inference runtime session and predict values for all test inputs:"
   ]
  },
  {
   "cell_type": "code",
   "execution_count": 23,
   "metadata": {},
   "outputs": [
    {
     "data": {
      "text/plain": [
       "tensor([0.])"
      ]
     },
     "execution_count": 23,
     "metadata": {},
     "output_type": "execute_result"
    }
   ],
   "source": [
    "onnx_test_data = scaler.transform(torch.Tensor.cpu(X_test)).astype(np.float32).tolist()\n",
    "sess = rt.InferenceSession(\"models/fraud/1/model.onnx\", providers=rt.get_available_providers())\n",
    "input_name = sess.get_inputs()[0].name\n",
    "output_name = sess.get_outputs()[0].name\n",
    "output = sess.run([output_name], {input_name: onnx_test_data[0]})\n",
    "y_pred = torch.tensor(output[0])\n",
    "y_pred"
   ]
  },
  {
   "cell_type": "code",
   "execution_count": 24,
   "metadata": {
    "tags": []
   },
   "outputs": [
    {
     "data": {
      "text/plain": [
       "tensor(1.1041e-18, device='cuda:0')"
      ]
     },
     "execution_count": 24,
     "metadata": {},
     "output_type": "execute_result"
    }
   ],
   "source": [
    "pytorch_y_pred[245]"
   ]
  },
  {
   "cell_type": "code",
   "execution_count": 25,
   "metadata": {
    "tags": []
   },
   "outputs": [
    {
     "ename": "InvalidArgument",
     "evalue": "[ONNXRuntimeError] : 2 : INVALID_ARGUMENT : Invalid rank for input: inputs Got: 2 Expected: 1 Please fix either the inputs/outputs or the model.",
     "output_type": "error",
     "traceback": [
      "\u001b[0;31m---------------------------------------------------------------------------\u001b[0m",
      "\u001b[0;31mInvalidArgument\u001b[0m                           Traceback (most recent call last)",
      "Cell \u001b[0;32mIn[25], line 1\u001b[0m\n\u001b[0;32m----> 1\u001b[0m output \u001b[38;5;241m=\u001b[39m \u001b[43msess\u001b[49m\u001b[38;5;241;43m.\u001b[39;49m\u001b[43mrun\u001b[49m\u001b[43m(\u001b[49m\u001b[43m[\u001b[49m\u001b[43moutput_name\u001b[49m\u001b[43m]\u001b[49m\u001b[43m,\u001b[49m\u001b[43m \u001b[49m\u001b[43m{\u001b[49m\u001b[43minput_name\u001b[49m\u001b[43m:\u001b[49m\u001b[43m \u001b[49m\u001b[43monnx_test_data\u001b[49m\u001b[43m}\u001b[49m\u001b[43m)\u001b[49m\n",
      "File \u001b[0;32m/opt/app-root/lib64/python3.9/site-packages/onnxruntime/capi/onnxruntime_inference_collection.py:220\u001b[0m, in \u001b[0;36mSession.run\u001b[0;34m(self, output_names, input_feed, run_options)\u001b[0m\n\u001b[1;32m    218\u001b[0m     output_names \u001b[38;5;241m=\u001b[39m [output\u001b[38;5;241m.\u001b[39mname \u001b[38;5;28;01mfor\u001b[39;00m output \u001b[38;5;129;01min\u001b[39;00m \u001b[38;5;28mself\u001b[39m\u001b[38;5;241m.\u001b[39m_outputs_meta]\n\u001b[1;32m    219\u001b[0m \u001b[38;5;28;01mtry\u001b[39;00m:\n\u001b[0;32m--> 220\u001b[0m     \u001b[38;5;28;01mreturn\u001b[39;00m \u001b[38;5;28;43mself\u001b[39;49m\u001b[38;5;241;43m.\u001b[39;49m\u001b[43m_sess\u001b[49m\u001b[38;5;241;43m.\u001b[39;49m\u001b[43mrun\u001b[49m\u001b[43m(\u001b[49m\u001b[43moutput_names\u001b[49m\u001b[43m,\u001b[49m\u001b[43m \u001b[49m\u001b[43minput_feed\u001b[49m\u001b[43m,\u001b[49m\u001b[43m \u001b[49m\u001b[43mrun_options\u001b[49m\u001b[43m)\u001b[49m\n\u001b[1;32m    221\u001b[0m \u001b[38;5;28;01mexcept\u001b[39;00m C\u001b[38;5;241m.\u001b[39mEPFail \u001b[38;5;28;01mas\u001b[39;00m err:\n\u001b[1;32m    222\u001b[0m     \u001b[38;5;28;01mif\u001b[39;00m \u001b[38;5;28mself\u001b[39m\u001b[38;5;241m.\u001b[39m_enable_fallback:\n",
      "\u001b[0;31mInvalidArgument\u001b[0m: [ONNXRuntimeError] : 2 : INVALID_ARGUMENT : Invalid rank for input: inputs Got: 2 Expected: 1 Please fix either the inputs/outputs or the model."
     ]
    }
   ],
   "source": [
    "output = sess.run([output_name], {input_name: onnx_test_data})"
   ]
  },
  {
   "cell_type": "code",
   "execution_count": null,
   "metadata": {
    "tags": []
   },
   "outputs": [],
   "source": [
    "onnx_model = onnx.load(\"models/fraud/1/model.onnx\")"
   ]
  },
  {
   "cell_type": "code",
   "execution_count": null,
   "metadata": {
    "tags": []
   },
   "outputs": [],
   "source": [
    "onnx.checker.check_model(onnx_model)"
   ]
  },
  {
   "cell_type": "code",
   "execution_count": null,
   "metadata": {
    "tags": []
   },
   "outputs": [],
   "source": [
    "print(onnx.helper.printable_graph(onnx_model.graph))\n"
   ]
  },
  {
   "cell_type": "code",
   "execution_count": null,
   "metadata": {
    "tags": []
   },
   "outputs": [],
   "source": [
    "inputs = sess.get_inputs()"
   ]
  },
  {
   "cell_type": "code",
   "execution_count": null,
   "metadata": {
    "tags": []
   },
   "outputs": [],
   "source": [
    "print(inputs[0].name)\n",
    "print(inputs[0].shape)\n",
    "print(inputs[0].type)"
   ]
  },
  {
   "cell_type": "markdown",
   "metadata": {},
   "source": [
    "Show the results:"
   ]
  },
  {
   "cell_type": "code",
   "execution_count": null,
   "metadata": {},
   "outputs": [],
   "source": []
  },
  {
   "cell_type": "code",
   "execution_count": null,
   "metadata": {
    "tags": []
   },
   "outputs": [],
   "source": [
    "torch.where(y_pred > 0)"
   ]
  },
  {
   "cell_type": "code",
   "execution_count": null,
   "metadata": {
    "tags": []
   },
   "outputs": [],
   "source": [
    "torch.where(pytorch_y_pred > 0)"
   ]
  },
  {
   "cell_type": "code",
   "execution_count": null,
   "metadata": {},
   "outputs": [],
   "source": [
    "from sklearn.metrics import confusion_matrix, ConfusionMatrixDisplay\n",
    "from matplotlib import pyplot as plt\n",
    "\n",
    "print(f\"Accuracy: {acc}\")\n",
    "\n",
    "c_matrix = confusion_matrix(torch.Tensor.cpu(y_test), torch.round(torch.Tensor.cpu(y_pred)))\n",
    "ConfusionMatrixDisplay(c_matrix).plot()"
   ]
  },
  {
   "cell_type": "markdown",
   "metadata": {},
   "source": [
    "## Example: Is Sally's transaction likely to be fraudulent?\n",
    "\n",
    "Here is the order of the fields from Sally's transaction details:\n",
    "* distance_from_last_transaction\n",
    "* ratio_to_median_price\n",
    "* used_chip \n",
    "* used_pin_number\n",
    "* online_order "
   ]
  },
  {
   "cell_type": "code",
   "execution_count": null,
   "metadata": {
    "tags": []
   },
   "outputs": [],
   "source": [
    "sally_transaction_details = [\n",
    "    [0.3111400080477545,\n",
    "    1.9459399775518593, \n",
    "    1.0, \n",
    "    0.0, \n",
    "    0.0]\n",
    "    ]\n",
    "\n",
    "scaled_tx = torch.tensor(scaler.transform(sally_transaction_details).astype(np.float32),\n",
    "                         dtype=torch.float)\n",
    "prediction = sess.run([output_name], {input_name: scaler.transform(scaled_tx).astype(np.float32)})\n",
    "\n",
    "print(\"Is Sally's transaction predicted to be fraudulent?\")\n",
    "\n",
    "if round(prediction[0].item()) == 1:\n",
    "    print(\"The model predicts this is fraud\")\n",
    "else:\n",
    "    print(\"The model predicts this is NOT fraud\")"
   ]
  },
  {
   "cell_type": "code",
   "execution_count": null,
   "metadata": {},
   "outputs": [],
   "source": []
  }
 ],
 "metadata": {
  "kernelspec": {
   "display_name": "Python 3.9",
   "language": "python",
   "name": "python3"
  },
  "language_info": {
   "codemirror_mode": {
    "name": "ipython",
    "version": 3
   },
   "file_extension": ".py",
   "mimetype": "text/x-python",
   "name": "python",
   "nbconvert_exporter": "python",
   "pygments_lexer": "ipython3",
   "version": "3.9.18"
  },
  "vscode": {
   "interpreter": {
    "hash": "63462a1f26ab486248b2a0fd058a0d9f9a6566a80083a3e1eb8f35617f2381b2"
   }
  }
 },
 "nbformat": 4,
 "nbformat_minor": 4
}
