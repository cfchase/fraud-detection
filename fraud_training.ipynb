{
 "cells": [
  {
   "cell_type": "code",
   "execution_count": 1,
   "metadata": {
    "tags": []
   },
   "outputs": [
    {
     "data": {
      "text/plain": [
       "'cuda'"
      ]
     },
     "execution_count": 1,
     "metadata": {},
     "output_type": "execute_result"
    }
   ],
   "source": [
    "import torch\n",
    "\n",
    "device = (\n",
    "    \"cuda\" if torch.cuda.is_available()\n",
    "    else \"mps\" if torch.backends.mps.is_available()\n",
    "    else \"cpu\"\n",
    ")\n",
    "\n",
    "device"
   ]
  },
  {
   "cell_type": "code",
   "execution_count": 2,
   "metadata": {
    "tags": []
   },
   "outputs": [],
   "source": [
    "import torch\n",
    "import pandas as pd \n",
    "\n",
    "feature_indexes = [\n",
    "    1,  # distance_from_last_transaction\n",
    "    2,  # ratio_to_median_purchase_price\n",
    "    4,  # used_chip\n",
    "    5,  # used_pin_number\n",
    "    6,  # online_order\n",
    "]\n",
    "\n",
    "label_indexes = [7]\n",
    "\n",
    "# feature_columns = [\n",
    "#     \"distance_from_last_transaction\",\n",
    "#     \"ratio_to_median_purchase_price\",\n",
    "#     \"used_chip\",\n",
    "#     \"used_pin_number\",\n",
    "#     \"online_order\",\n",
    "# ]\n",
    "\n",
    "# label_column = [\"fraud\"]\n",
    "\n",
    "train_df = pd.read_csv('data/train.csv', )\n",
    "# labels_df = train_df.loc[:, label_column]\n",
    "# train_df = train_df.loc[:, feature_columns]\n",
    "labels_df = train_df.iloc[:, label_indexes]\n",
    "train_df = train_df.iloc[:, feature_indexes]\n",
    "train_df_tensor = torch.tensor(train_df.values, dtype=torch.float).to(device)\n",
    "labels_df_tensor = torch.tensor(labels_df.values, dtype=torch.float).to(device)\n"
   ]
  },
  {
   "cell_type": "code",
   "execution_count": 3,
   "metadata": {
    "tags": []
   },
   "outputs": [
    {
     "data": {
      "text/plain": [
       "(array([5.06362607, 1.82498702, 0.351165  , 0.10034833, 0.650395  ]),\n",
       " array([28.19476586,  2.79741583,  0.47733441,  0.30046388,  0.4768452 ]))"
      ]
     },
     "execution_count": 3,
     "metadata": {},
     "output_type": "execute_result"
    }
   ],
   "source": [
    "from sklearn.model_selection import train_test_split\n",
    "from sklearn.preprocessing import StandardScaler\n",
    "import torch\n",
    "\n",
    "train_df = pd.read_csv('data/train.csv', )\n",
    "# labels_df = train_df.loc[:, label_column]\n",
    "# train_df = train_df.loc[:, feature_columns]\n",
    "labels_df = train_df.iloc[:, label_indexes]\n",
    "train_df = train_df.iloc[:, feature_indexes]\n",
    "\n",
    "sk_scaler = StandardScaler()\n",
    "sk_scaler.fit(train_df)\n",
    "sk_scaler.mean_, sk_scaler.scale_"
   ]
  },
  {
   "cell_type": "code",
   "execution_count": 4,
   "metadata": {
    "tags": []
   },
   "outputs": [
    {
     "data": {
      "text/plain": [
       "(tensor([5.0636, 1.8250, 0.3512, 0.1003, 0.6504], device='cuda:0'),\n",
       " tensor([28.1948,  2.7974,  0.4773,  0.3005,  0.4768], device='cuda:0'))"
      ]
     },
     "execution_count": 4,
     "metadata": {},
     "output_type": "execute_result"
    }
   ],
   "source": [
    "import torch\n",
    "\n",
    "\n",
    "# like scikit learn standard scaler\n",
    "class TorchStandardScaler:\n",
    "    def __init__(self):\n",
    "        self.mean = None\n",
    "        self.std = None\n",
    "\n",
    "    def fit(self, tensor):\n",
    "        self.mean = tensor.mean(dim=0, keepdim=False)\n",
    "        self.std = tensor.std(dim=0, keepdim=False)\n",
    "\n",
    "    def transform(self, tensor):\n",
    "        return (tensor - self.mean) / self.std\n",
    "\n",
    "    def fit_transform(self, tensor):\n",
    "        self.fit(tensor)\n",
    "        return self.transform(tensor)\n",
    "\n",
    "\n",
    "train_df_tensor = torch.tensor(train_df.values, dtype=torch.float).to(device)\n",
    "scaler = TorchStandardScaler()\n",
    "scaler.fit(train_df_tensor)\n",
    "scaler.mean, scaler.std"
   ]
  },
  {
   "cell_type": "code",
   "execution_count": 5,
   "metadata": {
    "tags": []
   },
   "outputs": [],
   "source": [
    "import pandas as pd\n",
    "import torch\n",
    "from torch.utils.data import Dataset, DataLoader\n",
    "\n",
    "\n",
    "class CSVDataset(Dataset):\n",
    "    def __init__(self, csv_file, transform=None, target_transform=None):\n",
    "        self.feature_indexes = feature_indexes\n",
    "        self.label_indexes = label_indexes\n",
    "        # self.feature_columns = feature_columns\n",
    "        # self.label_column = label_column \n",
    "        self.data = pd.read_csv(csv_file)\n",
    "        self.transform = transform\n",
    "        self.target_transform = target_transform\n",
    "\n",
    "    def __len__(self):\n",
    "        return len(self.data)\n",
    "\n",
    "    def __getitem__(self, idx):\n",
    "        features = torch.tensor(self.data.iloc[idx, self.feature_indexes],\n",
    "                                dtype=torch.float32).to(device)\n",
    "        label = torch.tensor(self.data.iloc[idx, self.label_indexes],\n",
    "                             dtype=torch.float32).to(device)\n",
    "        # features = torch.tensor(self.data.loc[idx, self.feature_columns],\n",
    "        #                         dtype=torch.float32).to(device)\n",
    "        # label = torch.tensor(self.data.loc[idx, self.label_column],\n",
    "        #                      dtype=torch.float32)\n",
    "        if self.transform:\n",
    "            features = self.transform(features)\n",
    "        if self.target_transform:\n",
    "            label = self.target_transform(label)\n",
    "\n",
    "        return features, label\n",
    "\n",
    "\n",
    "training_data = CSVDataset('data/train.csv', transform=scaler.transform)\n",
    "validation_data = CSVDataset('data/validate.csv', transform=scaler.transform)\n",
    "# training_data = CSVDataset('data/train.csv', transform=sk_scaler.transform)\n",
    "# validation_data = CSVDataset('data/validate.csv', transform=sk_scaler.transform)\n",
    "# test_data = CSVDataset('data/test.csv', transform=sk_scaler.transform)"
   ]
  },
  {
   "cell_type": "code",
   "execution_count": 6,
   "metadata": {
    "tags": []
   },
   "outputs": [],
   "source": [
    "from torch.utils.data import DataLoader\n",
    "\n",
    "batch_size = 10000\n",
    "\n",
    "training_dataloader = DataLoader(training_data, batch_size=batch_size)\n",
    "validation_dataloader = DataLoader(validation_data, batch_size=batch_size)"
   ]
  },
  {
   "cell_type": "code",
   "execution_count": 7,
   "metadata": {
    "collapsed": false,
    "jupyter": {
     "outputs_hidden": false
    }
   },
   "outputs": [
    {
     "data": {
      "text/plain": [
       "NeuralNetwork(\n",
       "  (linear_relu_stack): Sequential(\n",
       "    (0): Linear(in_features=5, out_features=8, bias=True)\n",
       "    (1): ReLU()\n",
       "    (2): Linear(in_features=8, out_features=4, bias=True)\n",
       "    (3): ReLU()\n",
       "    (4): Linear(in_features=4, out_features=1, bias=True)\n",
       "    (5): Sigmoid()\n",
       "  )\n",
       ")"
      ]
     },
     "execution_count": 7,
     "metadata": {},
     "output_type": "execute_result"
    }
   ],
   "source": [
    "import torch\n",
    "from torch import nn\n",
    "\n",
    "first_layer_num = len(training_data.feature_indexes)\n",
    "\n",
    "\n",
    "class NeuralNetwork(nn.Module):\n",
    "    def __init__(self):\n",
    "        super().__init__()\n",
    "        self.linear_relu_stack = nn.Sequential(\n",
    "            nn.Linear(first_layer_num, 8),\n",
    "            nn.ReLU(),\n",
    "            nn.Linear(8, 4),\n",
    "            nn.ReLU(),\n",
    "            nn.Linear(4, 1),\n",
    "            nn.Sigmoid(),\n",
    "        )\n",
    "\n",
    "    def forward(self, x):\n",
    "        logits = self.linear_relu_stack(x)\n",
    "        return logits\n",
    "\n",
    "\n",
    "model = NeuralNetwork().to(device)\n",
    "model"
   ]
  },
  {
   "cell_type": "code",
   "execution_count": 30,
   "metadata": {
    "collapsed": false,
    "jupyter": {
     "outputs_hidden": false
    }
   },
   "outputs": [
    {
     "name": "stdout",
     "output_type": "stream",
     "text": [
      "tensor([10.4210])\n"
     ]
    },
    {
     "data": {
      "text/plain": [
       "BCEWithLogitsLoss()"
      ]
     },
     "execution_count": 30,
     "metadata": {},
     "output_type": "execute_result"
    }
   ],
   "source": [
    "# Initialize the loss function\n",
    "labels_df_tensor = torch.tensor(labels_df.values, dtype=torch.float)\n",
    "positives = torch.sum(labels_df_tensor)\n",
    "negatives = (len(labels_df_tensor) - torch.sum(labels_df_tensor))\n",
    "pos_weight = torch.unsqueeze((negatives / positives), 0)\n",
    "print(pos_weight)\n",
    "\n",
    "# loss_fn = nn.BCEWithLogitsLoss().to(device)\n",
    "loss_fn = nn.BCEWithLogitsLoss(pos_weight=pos_weight).to(device)\n",
    "# loss_fn = nn.CrossEntropyLoss().to(device)\n",
    "loss_fn"
   ]
  },
  {
   "cell_type": "code",
   "execution_count": 9,
   "metadata": {
    "collapsed": false,
    "jupyter": {
     "outputs_hidden": false
    }
   },
   "outputs": [],
   "source": [
    "learning_rate = 0.01\n",
    "\n",
    "optimizer = torch.optim.SGD(model.parameters(), lr=learning_rate)\n",
    "# optimizer = torch.optim.Adam(params=model.parameters(), lr=learning_rate)\n"
   ]
  },
  {
   "cell_type": "code",
   "execution_count": 10,
   "metadata": {
    "tags": []
   },
   "outputs": [],
   "source": [
    "def accuracy_fn(y_pred, y_actual):\n",
    "    correct = torch.eq(torch.round(y_pred), y_actual).sum().item()\n",
    "    acc = (correct / len(y_pred)) * 100\n",
    "    return acc"
   ]
  },
  {
   "cell_type": "code",
   "execution_count": 11,
   "metadata": {
    "tags": []
   },
   "outputs": [],
   "source": [
    "# i = iter(training_dataloader)\n",
    "\n",
    "# X, y = next(i)\n",
    "# print(f\"Feature batch shape: {X.size()}\")\n",
    "# print(f\"Labels batch shape: {y.size()}\")\n",
    "# features = X[0]\n",
    "# print(f\"Features: {features}\")\n",
    "# label = y[0]\n",
    "# print(f\"Label: {label}\")\n",
    "\n",
    "# model.eval()\n",
    "# with torch.inference_mode():\n",
    "#     y_pred = model(X)\n",
    "#     acc = accuracy_fn(y_pred, y)\n",
    "#     loss = loss_fn(y_pred, y)\n",
    "\n",
    "# print(y_pred[:10])\n",
    "# print(torch.round(y_pred[:10]))\n",
    "# print(y[:10])\n",
    "\n",
    "# print(acc)\n",
    "# print(loss)"
   ]
  },
  {
   "cell_type": "code",
   "execution_count": 27,
   "metadata": {
    "collapsed": false,
    "jupyter": {
     "outputs_hidden": false
    }
   },
   "outputs": [],
   "source": [
    "def train_loop(dataloader, model, loss_fn, optimizer):\n",
    "    global print_stuff\n",
    "    size = len(dataloader.dataset)\n",
    "    # Set the model to training mode - important for batch normalization and dropout layers\n",
    "    # Unnecessary in this situation but added for best practices\n",
    "    model.train()\n",
    "    for batch, (X, y) in enumerate(dataloader):\n",
    "        # Compute prediction and loss\n",
    "        pred = model(X)\n",
    "        loss = loss_fn(pred, y)\n",
    "\n",
    "        # Backpropagation\n",
    "        loss.backward()\n",
    "        optimizer.step()\n",
    "        optimizer.zero_grad()\n",
    "\n",
    "        if batch % (size / batch_size / 10) == 0:\n",
    "            loss, current = loss.item(), batch * batch_size + len(X)\n",
    "            print(f\"loss: {loss:>7f}  [{current:>5d}/{size:>5d}]\")\n",
    "\n",
    "\n",
    "def test_loop(dataloader, model, loss_fn):\n",
    "    # Set the model to evaluation mode - important for batch normalization and dropout layers\n",
    "    # Unnecessary in this situation but added for best practices\n",
    "    model.eval()\n",
    "    size = len(dataloader.dataset)\n",
    "    num_batches = len(dataloader)\n",
    "    test_loss, correct = 0, 0\n",
    "\n",
    "    # Evaluating the model with torch.no_grad() ensures that no gradients are computed during test mode\n",
    "    # also serves to reduce unnecessary gradient computations and memory usage for tensors with requires_grad=True\n",
    "    with torch.no_grad():\n",
    "        for X, y in dataloader:\n",
    "            pred = model(X)\n",
    "            test_loss += loss_fn(pred, y).item()\n",
    "            correct += torch.eq(torch.round(pred), y).sum().item()\n",
    "\n",
    "    test_loss /= num_batches\n",
    "    correct /= size\n",
    "    print(f\"Test Error: \\n Accuracy: {(100*correct):>0.1f}%, Avg loss: {test_loss:>8f} \\n\")"
   ]
  },
  {
   "cell_type": "markdown",
   "metadata": {},
   "source": [
    "We initialize the loss function and optimizer, and pass it to\n",
    "`train_loop` and `test_loop`. Feel free to increase the number of epochs\n",
    "to track the model\\'s improving performance.\n"
   ]
  },
  {
   "cell_type": "code",
   "execution_count": 28,
   "metadata": {},
   "outputs": [
    {
     "data": {
      "text/plain": [
       "OrderedDict([('linear_relu_stack.0.weight',\n",
       "              tensor([[ 0.1751, -0.3352, -0.1936,  0.1880,  0.2658],\n",
       "                      [ 0.2717,  0.0024,  0.1191,  0.1804,  0.2486],\n",
       "                      [-0.2196, -0.4380,  0.4206,  0.1622,  0.4142],\n",
       "                      [-0.3802,  0.4550,  0.1082,  0.2396, -0.1002],\n",
       "                      [-0.2344, -0.2133,  0.3611,  0.2119, -0.3261],\n",
       "                      [-0.1004, -0.2784,  0.3351, -0.3985, -0.1822],\n",
       "                      [-0.3950,  0.3103, -0.1508, -0.4061, -0.3373],\n",
       "                      [-0.0993,  0.1186,  0.0580,  0.2722, -0.2149]], device='cuda:0')),\n",
       "             ('linear_relu_stack.0.bias',\n",
       "              tensor([-0.3365, -0.3905, -0.3989, -0.1590,  0.0177,  0.0751, -0.0144, -0.3212],\n",
       "                     device='cuda:0')),\n",
       "             ('linear_relu_stack.2.weight',\n",
       "              tensor([[-0.1788, -0.3086, -0.3166, -0.1382,  0.2126,  0.1384, -0.2066,  0.3537],\n",
       "                      [-0.1943, -0.2626, -0.2344,  0.0501,  0.2336, -0.2906, -0.2960,  0.1510],\n",
       "                      [ 0.2537,  0.2242, -0.2633, -0.2582,  0.1258, -0.2550,  0.0813,  0.1037],\n",
       "                      [ 0.3515, -0.1298,  0.0950,  0.3435,  0.1087, -0.0241, -0.2360, -0.2198]],\n",
       "                     device='cuda:0')),\n",
       "             ('linear_relu_stack.2.bias',\n",
       "              tensor([-0.2892, -0.1791,  0.0974,  0.2685], device='cuda:0')),\n",
       "             ('linear_relu_stack.4.weight',\n",
       "              tensor([[-0.4962,  0.2541, -0.0251,  0.4627]], device='cuda:0')),\n",
       "             ('linear_relu_stack.4.bias', tensor([0.3890], device='cuda:0'))])"
      ]
     },
     "execution_count": 28,
     "metadata": {},
     "output_type": "execute_result"
    }
   ],
   "source": [
    "model.state_dict()"
   ]
  },
  {
   "cell_type": "code",
   "execution_count": null,
   "metadata": {
    "collapsed": false,
    "jupyter": {
     "outputs_hidden": false
    }
   },
   "outputs": [
    {
     "name": "stdout",
     "output_type": "stream",
     "text": [
      "Epoch 1\n",
      "-------------------------------\n"
     ]
    },
    {
     "name": "stderr",
     "output_type": "stream",
     "text": [
      "/tmp/ipykernel_268/307709274.py:20: FutureWarning: Series.__getitem__ treating keys as positions is deprecated. In a future version, integer keys will always be treated as labels (consistent with DataFrame behavior). To access a value by position, use `ser.iloc[pos]`\n",
      "  features = torch.tensor(self.data.iloc[idx, self.feature_indexes],\n",
      "/tmp/ipykernel_268/307709274.py:22: FutureWarning: Series.__getitem__ treating keys as positions is deprecated. In a future version, integer keys will always be treated as labels (consistent with DataFrame behavior). To access a value by position, use `ser.iloc[pos]`\n",
      "  label = torch.tensor(self.data.iloc[idx, self.label_indexes],\n"
     ]
    },
    {
     "name": "stdout",
     "output_type": "stream",
     "text": [
      "loss: 1.310119  [10000/600000]\n",
      "loss: 1.311231  [70000/600000]\n",
      "loss: 1.307011  [130000/600000]\n",
      "loss: 1.294862  [190000/600000]\n",
      "loss: 1.290341  [250000/600000]\n",
      "loss: 1.308722  [310000/600000]\n",
      "loss: 1.307042  [370000/600000]\n",
      "loss: 1.313182  [430000/600000]\n",
      "loss: 1.293027  [490000/600000]\n",
      "loss: 1.308857  [550000/600000]\n",
      "Test Error: \n",
      " Accuracy: 81.1%, Avg loss: 1.304918 \n",
      "\n",
      "Epoch 2\n",
      "-------------------------------\n",
      "loss: 1.306494  [10000/600000]\n",
      "loss: 1.307494  [70000/600000]\n",
      "loss: 1.303300  [130000/600000]\n",
      "loss: 1.291063  [190000/600000]\n",
      "loss: 1.286553  [250000/600000]\n",
      "loss: 1.305040  [310000/600000]\n",
      "loss: 1.303301  [370000/600000]\n",
      "loss: 1.309403  [430000/600000]\n",
      "loss: 1.289252  [490000/600000]\n",
      "loss: 1.305099  [550000/600000]\n",
      "Test Error: \n",
      " Accuracy: 92.9%, Avg loss: 1.301185 \n",
      "\n",
      "Epoch 3\n",
      "-------------------------------\n",
      "loss: 1.302797  [10000/600000]\n",
      "loss: 1.303669  [70000/600000]\n",
      "loss: 1.299508  [130000/600000]\n",
      "loss: 1.287194  [190000/600000]\n",
      "loss: 1.282697  [250000/600000]\n",
      "loss: 1.301273  [310000/600000]\n",
      "loss: 1.299471  [370000/600000]\n",
      "loss: 1.305523  [430000/600000]\n",
      "loss: 1.285400  [490000/600000]\n",
      "loss: 1.301238  [550000/600000]\n"
     ]
    }
   ],
   "source": [
    "# loss_fn = nn.CrossEntropyLoss()\n",
    "# optimizer = torch.optim.SGD(model.parameters(), lr=learning_rate)\n",
    "\n",
    "epochs = 10\n",
    "for t in range(epochs):\n",
    "    print(f\"Epoch {t+1}\\n-------------------------------\")\n",
    "    train_loop(training_dataloader, model, loss_fn, optimizer)\n",
    "    test_loop(validation_dataloader, model, loss_fn)\n",
    "print(\"Done!\")"
   ]
  },
  {
   "cell_type": "code",
   "execution_count": 15,
   "metadata": {
    "tags": []
   },
   "outputs": [],
   "source": [
    "# test_loop(validation_dataloader, model, loss_fn)\n"
   ]
  },
  {
   "cell_type": "code",
   "execution_count": 16,
   "metadata": {
    "tags": []
   },
   "outputs": [],
   "source": [
    "def run_inference(test_data):\n",
    "    model.eval()\n",
    "    with torch.inference_mode():\n",
    "        prediction = torch.round(model(test_data))\n",
    "\n",
    "    if prediction.item() == 1:\n",
    "        return \"fraud\"\n",
    "    else:\n",
    "        return \"NOT fraud\""
   ]
  },
  {
   "cell_type": "code",
   "execution_count": 17,
   "metadata": {
    "tags": []
   },
   "outputs": [
    {
     "name": "stdout",
     "output_type": "stream",
     "text": [
      "The model thinks the valid transaction is fraud\n"
     ]
    }
   ],
   "source": [
    "# valid transaction\n",
    "valid_tx = torch.tensor([[0.0, 1.0, 1.0, 1.0, 0.0]]).to(device)\n",
    "prediction = run_inference(valid_tx)\n",
    "print(f\"The model thinks the valid transaction is {prediction}\")"
   ]
  },
  {
   "cell_type": "code",
   "execution_count": 18,
   "metadata": {
    "tags": []
   },
   "outputs": [
    {
     "name": "stdout",
     "output_type": "stream",
     "text": [
      "The model thinks the valid transaction is fraud\n"
     ]
    }
   ],
   "source": [
    "# fraudulent use case\n",
    "fraud_tx = torch.tensor([[100, 1.2, 0.0, 0.0, 1.0]]).to(device)\n",
    "prediction = run_inference(fraud_tx)\n",
    "print(f\"The model thinks the valid transaction is {prediction}\")"
   ]
  },
  {
   "cell_type": "code",
   "execution_count": 19,
   "metadata": {
    "tags": []
   },
   "outputs": [],
   "source": [
    "test_df = pd.read_csv('data/test.csv', )\n",
    "test_labels_df = test_df.iloc[:, label_indexes]\n",
    "test_data_df = test_df.iloc[:, feature_indexes]\n",
    "test_data_df_tensor = torch.tensor(test_data_df.values, dtype=torch.float).to(device)\n",
    "test_labels_df_tensor = torch.tensor(test_labels_df.values, dtype=torch.float).to(device)"
   ]
  },
  {
   "cell_type": "code",
   "execution_count": 20,
   "metadata": {
    "tags": []
   },
   "outputs": [
    {
     "name": "stdout",
     "output_type": "stream",
     "text": [
      "8.691500000000001\n"
     ]
    }
   ],
   "source": [
    "### Testing\n",
    "model.eval()\n",
    "with torch.inference_mode():\n",
    "    y_pred = model(test_data_df_tensor)\n",
    "    acc = accuracy_fn(y_pred, test_labels_df_tensor)\n",
    "\n",
    "print(acc)"
   ]
  },
  {
   "cell_type": "code",
   "execution_count": null,
   "metadata": {},
   "outputs": [],
   "source": []
  },
  {
   "cell_type": "code",
   "execution_count": 21,
   "metadata": {
    "tags": []
   },
   "outputs": [
    {
     "name": "stdout",
     "output_type": "stream",
     "text": [
      "Accuracy: 8.691500000000001\n"
     ]
    },
    {
     "data": {
      "text/plain": [
       "<sklearn.metrics._plot.confusion_matrix.ConfusionMatrixDisplay at 0x7f9dcd3a63a0>"
      ]
     },
     "execution_count": 21,
     "metadata": {},
     "output_type": "execute_result"
    },
    {
     "data": {
      "image/png": "[encoded data removed]",
      "text/plain": [
       "<Figure size 640x480 with 2 Axes>"
      ]
     },
     "metadata": {},
     "output_type": "display_data"
    }
   ],
   "source": [
    "from sklearn.metrics import confusion_matrix, ConfusionMatrixDisplay\n",
    "from matplotlib import pyplot as plt\n",
    "\n",
    "print(f\"Accuracy: {acc}\")\n",
    "\n",
    "c_matrix = confusion_matrix(torch.Tensor.cpu(test_labels_df_tensor),\n",
    "                            torch.round(torch.Tensor.cpu(y_pred)))\n",
    "ConfusionMatrixDisplay(c_matrix).plot()\n"
   ]
  },
  {
   "cell_type": "code",
   "execution_count": null,
   "metadata": {},
   "outputs": [],
   "source": []
  },
  {
   "cell_type": "code",
   "execution_count": null,
   "metadata": {},
   "outputs": [],
   "source": []
  },
  {
   "cell_type": "code",
   "execution_count": null,
   "metadata": {},
   "outputs": [],
   "source": []
  }
 ],
 "metadata": {
  "kernelspec": {
   "display_name": "Python 3.9",
   "language": "python",
   "name": "python3"
  },
  "language_info": {
   "codemirror_mode": {
    "name": "ipython",
    "version": 3
   },
   "file_extension": ".py",
   "mimetype": "text/x-python",
   "name": "python",
   "nbconvert_exporter": "python",
   "pygments_lexer": "ipython3",
   "version": "3.9.18"
  }
 },
 "nbformat": 4,
 "nbformat_minor": 4
}
