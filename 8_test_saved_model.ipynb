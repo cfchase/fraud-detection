{
 "cells": [
  {
   "cell_type": "code",
   "execution_count": null,
   "metadata": {
    "tags": []
   },
   "outputs": [],
   "source": [
    "import torch\n",
    "\n",
    "device = (\n",
    "    \"cuda\" if torch.cuda.is_available()\n",
    "    else \"mps\" if torch.backends.mps.is_available()\n",
    "    else \"cpu\"\n",
    ")\n",
    "\n",
    "device"
   ]
  },
  {
   "cell_type": "markdown",
   "metadata": {},
   "source": [
    "### Test Model"
   ]
  },
  {
   "cell_type": "code",
   "execution_count": null,
   "metadata": {
    "tags": []
   },
   "outputs": [],
   "source": [
    "import torch\n",
    "import pandas as pd \n",
    "\n",
    "feature_indexes = [\n",
    "    1,  # distance_from_last_transaction\n",
    "    2,  # ratio_to_median_purchase_price\n",
    "    4,  # used_chip\n",
    "    5,  # used_pin_number\n",
    "    6,  # online_order\n",
    "]\n",
    "\n",
    "label_indexes = [\n",
    "    7  # fraud\n",
    "]\n",
    "\n",
    "# test_df = pd.read_csv('data/test_sample.csv', )\n",
    "test_df = pd.read_csv('data/test.csv', )\n",
    "test_labels_df = test_df.iloc[:, label_indexes]\n",
    "test_data_df = test_df.iloc[:, feature_indexes]\n",
    "test_data_df_tensor = torch.tensor(test_data_df.values, dtype=torch.float).to(device)\n",
    "test_labels_df_tensor = torch.tensor(test_labels_df.values, dtype=torch.float).to(device)"
   ]
  },
  {
   "cell_type": "code",
   "execution_count": null,
   "metadata": {
    "tags": []
   },
   "outputs": [],
   "source": [
    "import torch\n",
    "from torch import nn\n",
    "\n",
    "# like scikit learn standard scaler\n",
    "class TorchStandardScaler:\n",
    "    def __init__(self):\n",
    "        self.mean = None\n",
    "        self.std = None\n",
    "\n",
    "    def fit(self, tensor):\n",
    "        self.mean = tensor.mean(dim=0, keepdim=False)\n",
    "        self.std = tensor.std(dim=0, keepdim=False)\n",
    "\n",
    "    def transform(self, tensor):\n",
    "        return (tensor - self.mean) / self.std\n",
    "\n",
    "    def fit_transform(self, tensor):\n",
    "        self.fit(tensor)\n",
    "        return self.transform(tensor)\n",
    "\n",
    "    \n",
    "class NeuralNetwork(nn.Module):\n",
    "    def __init__(self, scaler):\n",
    "        super().__init__()\n",
    "        self.linear_relu_stack = nn.Sequential(\n",
    "            nn.Linear(5, 32),\n",
    "            nn.ReLU(),\n",
    "            nn.Linear(32, 32),\n",
    "            nn.ReLU(),\n",
    "            nn.Linear(32, 32),\n",
    "            nn.ReLU(),\n",
    "            nn.Linear(32, 1),\n",
    "            nn.Sigmoid(),\n",
    "        )\n",
    "        self.scaler = scaler\n",
    "\n",
    "    def forward(self, x):\n",
    "        with torch.no_grad():\n",
    "            x_pre = self.scaler.transform(x)\n",
    "        probs = self.linear_relu_stack(x_pre)\n",
    "        return probs\n",
    "\n",
    "    \n",
    "model = torch.load(\"model.pth\")\n",
    "\n",
    "# model = torch.load(\"models/fraud/1/model.pth\")\n",
    "model.eval()\n",
    "with torch.inference_mode():\n",
    "    y_pred = model(test_data_df_tensor)\n"
   ]
  },
  {
   "cell_type": "code",
   "execution_count": null,
   "metadata": {
    "tags": []
   },
   "outputs": [],
   "source": [
    "from sklearn.metrics import confusion_matrix, ConfusionMatrixDisplay, precision_score, recall_score\n",
    "from matplotlib import pyplot as plt\n",
    "\n",
    "correct = torch.eq(torch.round(y_pred), test_labels_df_tensor).sum().item()\n",
    "acc = (correct / len(y_pred)) * 100\n",
    "precision = precision_score(test_labels_df_tensor, torch.round(y_pred))\n",
    "recall = recall_score(test_labels_df_tensor, torch.round(y_pred))\n",
    "\n",
    "print(f\"Eval Metrics: \\n Accuracy: {acc:>0.1f}%, \"\n",
    "      f\"Precision: {precision:.4f}, Recall: {recall:.4f} \\n\")\n",
    "\n",
    "c_matrix = confusion_matrix(torch.Tensor.cpu(test_labels_df_tensor),\n",
    "                            torch.round(torch.Tensor.cpu(y_pred)))\n",
    "ConfusionMatrixDisplay(c_matrix).plot()\n"
   ]
  },
  {
   "cell_type": "code",
   "execution_count": null,
   "metadata": {},
   "outputs": [],
   "source": []
  }
 ],
 "metadata": {
  "kernelspec": {
   "display_name": "Python 3.9",
   "language": "python",
   "name": "python3"
  },
  "language_info": {
   "codemirror_mode": {
    "name": "ipython",
    "version": 3
   },
   "file_extension": ".py",
   "mimetype": "text/x-python",
   "name": "python",
   "nbconvert_exporter": "python",
   "pygments_lexer": "ipython3",
   "version": "3.9.18"
  }
 },
 "nbformat": 4,
 "nbformat_minor": 4
}
