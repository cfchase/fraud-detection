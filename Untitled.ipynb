{
 "cells": [
  {
   "cell_type": "code",
   "execution_count": 1,
   "id": "dea406f6-7ed1-4c79-9b90-ff294e8ba705",
   "metadata": {
    "tags": []
   },
   "outputs": [
    {
     "name": "stderr",
     "output_type": "stream",
     "text": [
      "/opt/app-root/lib64/python3.9/site-packages/torchvision/models/_utils.py:208: UserWarning: The parameter 'pretrained' is deprecated since 0.13 and may be removed in the future, please use 'weights' instead.\n",
      "  warnings.warn(\n",
      "/opt/app-root/lib64/python3.9/site-packages/torchvision/models/_utils.py:223: UserWarning: Arguments other than a weight enum or `None` for 'weights' are deprecated since 0.13 and may be removed in the future. The current behavior is equivalent to passing `weights=AlexNet_Weights.IMAGENET1K_V1`. You can also use `weights=AlexNet_Weights.DEFAULT` to get the most up-to-date weights.\n",
      "  warnings.warn(msg)\n",
      "Downloading: \"https://download.pytorch.org/models/alexnet-owt-7be5be79.pth\" to /opt/app-root/src/.cache/torch/hub/checkpoints/alexnet-owt-7be5be79.pth\n",
      "100%|██████████| 233M/233M [00:01<00:00, 225MB/s] \n"
     ]
    },
    {
     "name": "stdout",
     "output_type": "stream",
     "text": [
      "Exported graph: graph(%actual_input_1 : Float(10, 3, 224, 224, strides=[150528, 50176, 224, 1], requires_grad=0, device=cuda:0),\n",
      "      %learned_0 : Float(64, 3, 11, 11, strides=[363, 121, 11, 1], requires_grad=1, device=cuda:0),\n",
      "      %learned_1 : Float(64, strides=[1], requires_grad=1, device=cuda:0),\n",
      "      %learned_2 : Float(192, 64, 5, 5, strides=[1600, 25, 5, 1], requires_grad=1, device=cuda:0),\n",
      "      %learned_3 : Float(192, strides=[1], requires_grad=1, device=cuda:0),\n",
      "      %learned_4 : Float(384, 192, 3, 3, strides=[1728, 9, 3, 1], requires_grad=1, device=cuda:0),\n",
      "      %learned_5 : Float(384, strides=[1], requires_grad=1, device=cuda:0),\n",
      "      %learned_6 : Float(256, 384, 3, 3, strides=[3456, 9, 3, 1], requires_grad=1, device=cuda:0),\n",
      "      %learned_7 : Float(256, strides=[1], requires_grad=1, device=cuda:0),\n",
      "      %learned_8 : Float(256, 256, 3, 3, strides=[2304, 9, 3, 1], requires_grad=1, device=cuda:0),\n",
      "      %learned_9 : Float(256, strides=[1], requires_grad=1, device=cuda:0),\n",
      "      %learned_10 : Float(4096, 9216, strides=[9216, 1], requires_grad=1, device=cuda:0),\n",
      "      %learned_11 : Float(4096, strides=[1], requires_grad=1, device=cuda:0),\n",
      "      %learned_12 : Float(4096, 4096, strides=[4096, 1], requires_grad=1, device=cuda:0),\n",
      "      %learned_13 : Float(4096, strides=[1], requires_grad=1, device=cuda:0),\n",
      "      %learned_14 : Float(1000, 4096, strides=[4096, 1], requires_grad=1, device=cuda:0),\n",
      "      %learned_15 : Float(1000, strides=[1], requires_grad=1, device=cuda:0)):\n",
      "  %/features/features.0/Conv_output_0 : Float(10, 64, 55, 55, strides=[193600, 3025, 55, 1], requires_grad=0, device=cuda:0) = onnx::Conv[dilations=[1, 1], group=1, kernel_shape=[11, 11], pads=[2, 2, 2, 2], strides=[4, 4], onnx_name=\"/features/features.0/Conv\"](%actual_input_1, %learned_0, %learned_1), scope: torchvision.models.alexnet.AlexNet::/torch.nn.modules.container.Sequential::features/torch.nn.modules.conv.Conv2d::features.0 # /opt/app-root/lib64/python3.9/site-packages/torch/nn/modules/conv.py:456:0\n",
      "  %/features/features.1/Relu_output_0 : Float(10, 64, 55, 55, strides=[193600, 3025, 55, 1], requires_grad=1, device=cuda:0) = onnx::Relu[onnx_name=\"/features/features.1/Relu\"](%/features/features.0/Conv_output_0), scope: torchvision.models.alexnet.AlexNet::/torch.nn.modules.container.Sequential::features/torch.nn.modules.activation.ReLU::features.1 # /opt/app-root/lib64/python3.9/site-packages/torch/nn/functional.py:1471:0\n",
      "  %/features/features.2/MaxPool_output_0 : Float(10, 64, 27, 27, strides=[46656, 729, 27, 1], requires_grad=1, device=cuda:0) = onnx::MaxPool[ceil_mode=0, dilations=[1, 1], kernel_shape=[3, 3], pads=[0, 0, 0, 0], strides=[2, 2], onnx_name=\"/features/features.2/MaxPool\"](%/features/features.1/Relu_output_0), scope: torchvision.models.alexnet.AlexNet::/torch.nn.modules.container.Sequential::features/torch.nn.modules.pooling.MaxPool2d::features.2 # /opt/app-root/lib64/python3.9/site-packages/torch/nn/functional.py:796:0\n",
      "  %/features/features.3/Conv_output_0 : Float(10, 192, 27, 27, strides=[139968, 729, 27, 1], requires_grad=0, device=cuda:0) = onnx::Conv[dilations=[1, 1], group=1, kernel_shape=[5, 5], pads=[2, 2, 2, 2], strides=[1, 1], onnx_name=\"/features/features.3/Conv\"](%/features/features.2/MaxPool_output_0, %learned_2, %learned_3), scope: torchvision.models.alexnet.AlexNet::/torch.nn.modules.container.Sequential::features/torch.nn.modules.conv.Conv2d::features.3 # /opt/app-root/lib64/python3.9/site-packages/torch/nn/modules/conv.py:456:0\n",
      "  %/features/features.4/Relu_output_0 : Float(10, 192, 27, 27, strides=[139968, 729, 27, 1], requires_grad=1, device=cuda:0) = onnx::Relu[onnx_name=\"/features/features.4/Relu\"](%/features/features.3/Conv_output_0), scope: torchvision.models.alexnet.AlexNet::/torch.nn.modules.container.Sequential::features/torch.nn.modules.activation.ReLU::features.4 # /opt/app-root/lib64/python3.9/site-packages/torch/nn/functional.py:1471:0\n",
      "  %/features/features.5/MaxPool_output_0 : Float(10, 192, 13, 13, strides=[32448, 169, 13, 1], requires_grad=1, device=cuda:0) = onnx::MaxPool[ceil_mode=0, dilations=[1, 1], kernel_shape=[3, 3], pads=[0, 0, 0, 0], strides=[2, 2], onnx_name=\"/features/features.5/MaxPool\"](%/features/features.4/Relu_output_0), scope: torchvision.models.alexnet.AlexNet::/torch.nn.modules.container.Sequential::features/torch.nn.modules.pooling.MaxPool2d::features.5 # /opt/app-root/lib64/python3.9/site-packages/torch/nn/functional.py:796:0\n",
      "  %/features/features.6/Conv_output_0 : Float(10, 384, 13, 13, strides=[64896, 169, 13, 1], requires_grad=0, device=cuda:0) = onnx::Conv[dilations=[1, 1], group=1, kernel_shape=[3, 3], pads=[1, 1, 1, 1], strides=[1, 1], onnx_name=\"/features/features.6/Conv\"](%/features/features.5/MaxPool_output_0, %learned_4, %learned_5), scope: torchvision.models.alexnet.AlexNet::/torch.nn.modules.container.Sequential::features/torch.nn.modules.conv.Conv2d::features.6 # /opt/app-root/lib64/python3.9/site-packages/torch/nn/modules/conv.py:456:0\n",
      "  %/features/features.7/Relu_output_0 : Float(10, 384, 13, 13, strides=[64896, 169, 13, 1], requires_grad=1, device=cuda:0) = onnx::Relu[onnx_name=\"/features/features.7/Relu\"](%/features/features.6/Conv_output_0), scope: torchvision.models.alexnet.AlexNet::/torch.nn.modules.container.Sequential::features/torch.nn.modules.activation.ReLU::features.7 # /opt/app-root/lib64/python3.9/site-packages/torch/nn/functional.py:1471:0\n",
      "  %/features/features.8/Conv_output_0 : Float(10, 256, 13, 13, strides=[43264, 169, 13, 1], requires_grad=0, device=cuda:0) = onnx::Conv[dilations=[1, 1], group=1, kernel_shape=[3, 3], pads=[1, 1, 1, 1], strides=[1, 1], onnx_name=\"/features/features.8/Conv\"](%/features/features.7/Relu_output_0, %learned_6, %learned_7), scope: torchvision.models.alexnet.AlexNet::/torch.nn.modules.container.Sequential::features/torch.nn.modules.conv.Conv2d::features.8 # /opt/app-root/lib64/python3.9/site-packages/torch/nn/modules/conv.py:456:0\n",
      "  %/features/features.9/Relu_output_0 : Float(10, 256, 13, 13, strides=[43264, 169, 13, 1], requires_grad=1, device=cuda:0) = onnx::Relu[onnx_name=\"/features/features.9/Relu\"](%/features/features.8/Conv_output_0), scope: torchvision.models.alexnet.AlexNet::/torch.nn.modules.container.Sequential::features/torch.nn.modules.activation.ReLU::features.9 # /opt/app-root/lib64/python3.9/site-packages/torch/nn/functional.py:1471:0\n",
      "  %/features/features.10/Conv_output_0 : Float(10, 256, 13, 13, strides=[43264, 169, 13, 1], requires_grad=0, device=cuda:0) = onnx::Conv[dilations=[1, 1], group=1, kernel_shape=[3, 3], pads=[1, 1, 1, 1], strides=[1, 1], onnx_name=\"/features/features.10/Conv\"](%/features/features.9/Relu_output_0, %learned_8, %learned_9), scope: torchvision.models.alexnet.AlexNet::/torch.nn.modules.container.Sequential::features/torch.nn.modules.conv.Conv2d::features.10 # /opt/app-root/lib64/python3.9/site-packages/torch/nn/modules/conv.py:456:0\n",
      "  %/features/features.11/Relu_output_0 : Float(10, 256, 13, 13, strides=[43264, 169, 13, 1], requires_grad=1, device=cuda:0) = onnx::Relu[onnx_name=\"/features/features.11/Relu\"](%/features/features.10/Conv_output_0), scope: torchvision.models.alexnet.AlexNet::/torch.nn.modules.container.Sequential::features/torch.nn.modules.activation.ReLU::features.11 # /opt/app-root/lib64/python3.9/site-packages/torch/nn/functional.py:1471:0\n",
      "  %/features/features.12/MaxPool_output_0 : Float(10, 256, 6, 6, strides=[9216, 36, 6, 1], requires_grad=1, device=cuda:0) = onnx::MaxPool[ceil_mode=0, dilations=[1, 1], kernel_shape=[3, 3], pads=[0, 0, 0, 0], strides=[2, 2], onnx_name=\"/features/features.12/MaxPool\"](%/features/features.11/Relu_output_0), scope: torchvision.models.alexnet.AlexNet::/torch.nn.modules.container.Sequential::features/torch.nn.modules.pooling.MaxPool2d::features.12 # /opt/app-root/lib64/python3.9/site-packages/torch/nn/functional.py:796:0\n",
      "  %/avgpool/AveragePool_output_0 : Float(10, 256, 6, 6, strides=[9216, 36, 6, 1], requires_grad=1, device=cuda:0) = onnx::AveragePool[kernel_shape=[1, 1], strides=[1, 1], onnx_name=\"/avgpool/AveragePool\"](%/features/features.12/MaxPool_output_0), scope: torchvision.models.alexnet.AlexNet::/torch.nn.modules.pooling.AdaptiveAvgPool2d::avgpool # /opt/app-root/lib64/python3.9/site-packages/torch/nn/functional.py:1233:0\n",
      "  %/Flatten_output_0 : Float(10, 9216, strides=[9216, 1], requires_grad=1, device=cuda:0) = onnx::Flatten[axis=1, onnx_name=\"/Flatten\"](%/avgpool/AveragePool_output_0), scope: torchvision.models.alexnet.AlexNet:: # /opt/app-root/lib64/python3.9/site-packages/torchvision/models/alexnet.py:50:0\n",
      "  %/classifier/classifier.1/Gemm_output_0 : Float(10, 4096, strides=[4096, 1], requires_grad=1, device=cuda:0) = onnx::Gemm[alpha=1., beta=1., transB=1, onnx_name=\"/classifier/classifier.1/Gemm\"](%/Flatten_output_0, %learned_10, %learned_11), scope: torchvision.models.alexnet.AlexNet::/torch.nn.modules.container.Sequential::classifier/torch.nn.modules.linear.Linear::classifier.1 # /opt/app-root/lib64/python3.9/site-packages/torch/nn/modules/linear.py:116:0\n",
      "  %/classifier/classifier.2/Relu_output_0 : Float(10, 4096, strides=[4096, 1], requires_grad=1, device=cuda:0) = onnx::Relu[onnx_name=\"/classifier/classifier.2/Relu\"](%/classifier/classifier.1/Gemm_output_0), scope: torchvision.models.alexnet.AlexNet::/torch.nn.modules.container.Sequential::classifier/torch.nn.modules.activation.ReLU::classifier.2 # /opt/app-root/lib64/python3.9/site-packages/torch/nn/functional.py:1471:0\n",
      "  %/classifier/classifier.4/Gemm_output_0 : Float(10, 4096, strides=[4096, 1], requires_grad=1, device=cuda:0) = onnx::Gemm[alpha=1., beta=1., transB=1, onnx_name=\"/classifier/classifier.4/Gemm\"](%/classifier/classifier.2/Relu_output_0, %learned_12, %learned_13), scope: torchvision.models.alexnet.AlexNet::/torch.nn.modules.container.Sequential::classifier/torch.nn.modules.linear.Linear::classifier.4 # /opt/app-root/lib64/python3.9/site-packages/torch/nn/modules/linear.py:116:0\n",
      "  %/classifier/classifier.5/Relu_output_0 : Float(10, 4096, strides=[4096, 1], requires_grad=1, device=cuda:0) = onnx::Relu[onnx_name=\"/classifier/classifier.5/Relu\"](%/classifier/classifier.4/Gemm_output_0), scope: torchvision.models.alexnet.AlexNet::/torch.nn.modules.container.Sequential::classifier/torch.nn.modules.activation.ReLU::classifier.5 # /opt/app-root/lib64/python3.9/site-packages/torch/nn/functional.py:1471:0\n",
      "  %output1 : Float(10, 1000, strides=[1000, 1], requires_grad=1, device=cuda:0) = onnx::Gemm[alpha=1., beta=1., transB=1, onnx_name=\"/classifier/classifier.6/Gemm\"](%/classifier/classifier.5/Relu_output_0, %learned_14, %learned_15), scope: torchvision.models.alexnet.AlexNet::/torch.nn.modules.container.Sequential::classifier/torch.nn.modules.linear.Linear::classifier.6 # /opt/app-root/lib64/python3.9/site-packages/torch/nn/modules/linear.py:116:0\n",
      "  return (%output1)\n",
      "\n"
     ]
    }
   ],
   "source": [
    "import torch\n",
    "import torchvision\n",
    "\n",
    "dummy_input = torch.randn(10, 3, 224, 224, device=\"cuda\")\n",
    "model = torchvision.models.alexnet(pretrained=True).cuda()\n",
    "\n",
    "# Providing input and output names sets the display names for values\n",
    "# within the model's graph. Setting these does not change the semantics\n",
    "# of the graph; it is only for readability.\n",
    "#\n",
    "# The inputs to the network consist of the flat list of inputs (i.e.\n",
    "# the values you would pass to the forward() method) followed by the\n",
    "# flat list of parameters. You can partially specify names, i.e. provide\n",
    "# a list here shorter than the number of inputs to the model, and we will\n",
    "# only set that subset of names, starting from the beginning.\n",
    "input_names = [ \"actual_input_1\" ] + [ \"learned_%d\" % i for i in range(16) ]\n",
    "output_names = [ \"output1\" ]\n",
    "\n",
    "torch.onnx.export(model, dummy_input, \"alexnet.onnx\", verbose=True, input_names=input_names, output_names=output_names)"
   ]
  },
  {
   "cell_type": "code",
   "execution_count": null,
   "id": "39db4e4c-bbc6-4a5e-8acc-a7694538bc69",
   "metadata": {},
   "outputs": [],
   "source": []
  }
 ],
 "metadata": {
  "kernelspec": {
   "display_name": "Python 3.9",
   "language": "python",
   "name": "python3"
  },
  "language_info": {
   "codemirror_mode": {
    "name": "ipython",
    "version": 3
   },
   "file_extension": ".py",
   "mimetype": "text/x-python",
   "name": "python",
   "nbconvert_exporter": "python",
   "pygments_lexer": "ipython3",
   "version": "3.9.18"
  }
 },
 "nbformat": 4,
 "nbformat_minor": 5
}
